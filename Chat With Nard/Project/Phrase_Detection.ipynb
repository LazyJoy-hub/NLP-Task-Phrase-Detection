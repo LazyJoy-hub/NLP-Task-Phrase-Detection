{
 "cells": [
  {
   "cell_type": "code",
   "execution_count": 88,
   "metadata": {},
   "outputs": [],
   "source": [
    "import re\n",
    "import pandas as pd\n",
    "import numpy as np\n",
    "from nltk.corpus import stopwords\n",
    "from sklearn.model_selection import cross_val_score\n",
    "from sklearn.linear_model import LogisticRegression\n",
    "from sklearn.model_selection import train_test_split,cross_val_score\n",
    "from sklearn.metrics import accuracy_score\n",
    "from sklearn.feature_extraction.text import CountVectorizer\n",
    "from sklearn.ensemble import RandomForestClassifier\n",
    "from sklearn.tree import DecisionTreeClassifier"
   ]
  },
  {
   "cell_type": "code",
   "execution_count": 89,
   "metadata": {},
   "outputs": [],
   "source": [
    "# Reading data\n",
    "train_data = pd.read_csv('../data/training_data.tsv',header=0,delimiter=\"\\t\" ,quoting=3)"
   ]
  },
  {
   "cell_type": "code",
   "execution_count": 90,
   "metadata": {},
   "outputs": [],
   "source": [
    "# Function to define if there is reminder \n",
    "def found(x):\n",
    "    if (x[0] == \"Not Found\"):\n",
    "        return \"Not Found\"\n",
    "    else:\n",
    "        return \"Found\""
   ]
  },
  {
   "cell_type": "code",
   "execution_count": 91,
   "metadata": {},
   "outputs": [],
   "source": [
    "#Applying the found function\n",
    "train_data['label_found'] = train_data[['label']].apply( found , axis = 1)"
   ]
  },
  {
   "cell_type": "code",
   "execution_count": 92,
   "metadata": {},
   "outputs": [],
   "source": [
    "#This Function help us to remove the Digits and Emojis from the data\n",
    "def clean_txt(texts):\n",
    "    letters = re.sub(\"[^a-zA-Z]\",' ', str(texts))\n",
    "    lower_case = letters.lower()\n",
    "    words = lower_case.split()\n",
    "    stopword = stopwords.words('english')\n",
    "    meaning_words = [w for w in words if not w in stopword]\n",
    "    return (\" \".join(meaning_words))"
   ]
  },
  {
   "cell_type": "code",
   "execution_count": 93,
   "metadata": {},
   "outputs": [],
   "source": [
    "#remove the Digits and Emojis from the data\n",
    "train_data['sent_clean'] = [clean_txt(review) for review in train_data[\"sent\"].values]"
   ]
  },
  {
   "cell_type": "code",
   "execution_count": 94,
   "metadata": {},
   "outputs": [],
   "source": [
    "#Loading test data as test_data\n",
    "test_data = pd.read_csv('../data/eval_data.txt',header=0,delimiter=\"\\t\" ,quoting=3)"
   ]
  },
  {
   "cell_type": "code",
   "execution_count": 95,
   "metadata": {},
   "outputs": [],
   "source": [
    "#remove the Digits and Emojis from the data\n",
    "test_data['sent_clean'] = [clean_txt(review) for review in test_data[\"sent\"].values]"
   ]
  },
  {
   "cell_type": "code",
   "execution_count": 96,
   "metadata": {},
   "outputs": [
    {
     "data": {
      "text/html": [
       "<div>\n",
       "<style scoped>\n",
       "    .dataframe tbody tr th:only-of-type {\n",
       "        vertical-align: middle;\n",
       "    }\n",
       "\n",
       "    .dataframe tbody tr th {\n",
       "        vertical-align: top;\n",
       "    }\n",
       "\n",
       "    .dataframe thead th {\n",
       "        text-align: right;\n",
       "    }\n",
       "</style>\n",
       "<table border=\"1\" class=\"dataframe\">\n",
       "  <thead>\n",
       "    <tr style=\"text-align: right;\">\n",
       "      <th></th>\n",
       "      <th>sent</th>\n",
       "      <th>sent_clean</th>\n",
       "    </tr>\n",
       "  </thead>\n",
       "  <tbody>\n",
       "    <tr>\n",
       "      <td>401</td>\n",
       "      <td>I can remember now by my own</td>\n",
       "      <td>remember</td>\n",
       "    </tr>\n",
       "    <tr>\n",
       "      <td>893</td>\n",
       "      <td>This was such a small alarm</td>\n",
       "      <td>small alarm</td>\n",
       "    </tr>\n",
       "    <tr>\n",
       "      <td>391</td>\n",
       "      <td>Call sanjay, rajesh today by 4 pm</td>\n",
       "      <td>call sanjay rajesh today pm</td>\n",
       "    </tr>\n",
       "    <tr>\n",
       "      <td>833</td>\n",
       "      <td>16/1/2016 please remind about court in the mor...</td>\n",
       "      <td>please remind court morning</td>\n",
       "    </tr>\n",
       "    <tr>\n",
       "      <td>240</td>\n",
       "      <td>Reminder on Monday at 11 am to go to guru Ji</td>\n",
       "      <td>reminder monday go guru ji</td>\n",
       "    </tr>\n",
       "    <tr>\n",
       "      <td>283</td>\n",
       "      <td>Remind me to tell him abt job preferences at P...</td>\n",
       "      <td>remind tell abt job preferences pune get advice</td>\n",
       "    </tr>\n",
       "    <tr>\n",
       "      <td>469</td>\n",
       "      <td>Set reminder for insurance payment on 15th Feb...</td>\n",
       "      <td>set reminder insurance payment th february</td>\n",
       "    </tr>\n",
       "    <tr>\n",
       "      <td>87</td>\n",
       "      <td>Setup reminder</td>\n",
       "      <td>setup reminder</td>\n",
       "    </tr>\n",
       "    <tr>\n",
       "      <td>713</td>\n",
       "      <td>Add some more reminders</td>\n",
       "      <td>add reminders</td>\n",
       "    </tr>\n",
       "    <tr>\n",
       "      <td>857</td>\n",
       "      <td>Can u Mee what was today's reminders of me</td>\n",
       "      <td>u mee today reminders</td>\n",
       "    </tr>\n",
       "  </tbody>\n",
       "</table>\n",
       "</div>"
      ],
      "text/plain": [
       "                                                  sent  \\\n",
       "401                       I can remember now by my own   \n",
       "893                        This was such a small alarm   \n",
       "391                  Call sanjay, rajesh today by 4 pm   \n",
       "833  16/1/2016 please remind about court in the mor...   \n",
       "240       Reminder on Monday at 11 am to go to guru Ji   \n",
       "283  Remind me to tell him abt job preferences at P...   \n",
       "469  Set reminder for insurance payment on 15th Feb...   \n",
       "87                                      Setup reminder   \n",
       "713                            Add some more reminders   \n",
       "857         Can u Mee what was today's reminders of me   \n",
       "\n",
       "                                          sent_clean  \n",
       "401                                         remember  \n",
       "893                                      small alarm  \n",
       "391                      call sanjay rajesh today pm  \n",
       "833                      please remind court morning  \n",
       "240                       reminder monday go guru ji  \n",
       "283  remind tell abt job preferences pune get advice  \n",
       "469       set reminder insurance payment th february  \n",
       "87                                    setup reminder  \n",
       "713                                    add reminders  \n",
       "857                            u mee today reminders  "
      ]
     },
     "execution_count": 96,
     "metadata": {},
     "output_type": "execute_result"
    }
   ],
   "source": [
    "#Show the Data\n",
    "test_data.sample(10)"
   ]
  },
  {
   "cell_type": "code",
   "execution_count": 97,
   "metadata": {},
   "outputs": [],
   "source": [
    "#Convert a collection of text documents to a matrix of token counts\n",
    "#Bow train\n",
    "vectorizer = CountVectorizer(analyzer = \"word\", tokenizer = None, max_features = 12000) \n",
    "bow_train = (vectorizer.fit_transform(train_data['sent_clean'])).toarray()\n",
    "bow_test = (vectorizer.transform(test_data['sent_clean'])).toarray()"
   ]
  },
  {
   "cell_type": "code",
   "execution_count": 98,
   "metadata": {},
   "outputs": [
    {
     "data": {
      "text/html": [
       "<div>\n",
       "<style scoped>\n",
       "    .dataframe tbody tr th:only-of-type {\n",
       "        vertical-align: middle;\n",
       "    }\n",
       "\n",
       "    .dataframe tbody tr th {\n",
       "        vertical-align: top;\n",
       "    }\n",
       "\n",
       "    .dataframe thead th {\n",
       "        text-align: right;\n",
       "    }\n",
       "</style>\n",
       "<table border=\"1\" class=\"dataframe\">\n",
       "  <thead>\n",
       "    <tr style=\"text-align: right;\">\n",
       "      <th></th>\n",
       "      <th>sent</th>\n",
       "      <th>label</th>\n",
       "      <th>label_found</th>\n",
       "      <th>sent_clean</th>\n",
       "    </tr>\n",
       "  </thead>\n",
       "  <tbody>\n",
       "    <tr>\n",
       "      <td>4105</td>\n",
       "      <td>Will you remind me about stock market downs or...</td>\n",
       "      <td>stock market downs or up</td>\n",
       "      <td>Found</td>\n",
       "      <td>remind stock market downs told</td>\n",
       "    </tr>\n",
       "    <tr>\n",
       "      <td>3940</td>\n",
       "      <td>Reminder to recharge</td>\n",
       "      <td>recharge</td>\n",
       "      <td>Found</td>\n",
       "      <td>reminder recharge</td>\n",
       "    </tr>\n",
       "    <tr>\n",
       "      <td>5759</td>\n",
       "      <td>Remind me to watch</td>\n",
       "      <td>watch</td>\n",
       "      <td>Found</td>\n",
       "      <td>remind watch</td>\n",
       "    </tr>\n",
       "    <tr>\n",
       "      <td>3895</td>\n",
       "      <td>TNx for reminder me</td>\n",
       "      <td>Not Found</td>\n",
       "      <td>Not Found</td>\n",
       "      <td>tnx reminder</td>\n",
       "    </tr>\n",
       "    <tr>\n",
       "      <td>6496</td>\n",
       "      <td>Yes plz remind me everyday</td>\n",
       "      <td>Not Found</td>\n",
       "      <td>Not Found</td>\n",
       "      <td>yes plz remind everyday</td>\n",
       "    </tr>\n",
       "    <tr>\n",
       "      <td>5393</td>\n",
       "      <td>Set reminder on 13/04/2017 to 27/04/2017 meeti...</td>\n",
       "      <td>meeting nishi school instructions</td>\n",
       "      <td>Found</td>\n",
       "      <td>set reminder meeting nishi school instructions</td>\n",
       "    </tr>\n",
       "    <tr>\n",
       "      <td>2475</td>\n",
       "      <td>End my all reminder</td>\n",
       "      <td>Not Found</td>\n",
       "      <td>Not Found</td>\n",
       "      <td>end reminder</td>\n",
       "    </tr>\n",
       "    <tr>\n",
       "      <td>3161</td>\n",
       "      <td>Thank u fr d reminder</td>\n",
       "      <td>Not Found</td>\n",
       "      <td>Not Found</td>\n",
       "      <td>thank u fr reminder</td>\n",
       "    </tr>\n",
       "    <tr>\n",
       "      <td>3012</td>\n",
       "      <td>Meeting Reminder Date: November 23, 2016 Time:...</td>\n",
       "      <td>Not Found</td>\n",
       "      <td>Not Found</td>\n",
       "      <td>meeting reminder date november time meeting c b</td>\n",
       "    </tr>\n",
       "    <tr>\n",
       "      <td>5893</td>\n",
       "      <td>Remind me tomorrow Morning to take tax pm</td>\n",
       "      <td>take tax pm</td>\n",
       "      <td>Found</td>\n",
       "      <td>remind tomorrow morning take tax pm</td>\n",
       "    </tr>\n",
       "  </tbody>\n",
       "</table>\n",
       "</div>"
      ],
      "text/plain": [
       "                                                   sent  \\\n",
       "4105  Will you remind me about stock market downs or...   \n",
       "3940                               Reminder to recharge   \n",
       "5759                                 Remind me to watch   \n",
       "3895                                TNx for reminder me   \n",
       "6496                         Yes plz remind me everyday   \n",
       "5393  Set reminder on 13/04/2017 to 27/04/2017 meeti...   \n",
       "2475                                End my all reminder   \n",
       "3161                              Thank u fr d reminder   \n",
       "3012  Meeting Reminder Date: November 23, 2016 Time:...   \n",
       "5893          Remind me tomorrow Morning to take tax pm   \n",
       "\n",
       "                                  label label_found  \\\n",
       "4105           stock market downs or up       Found   \n",
       "3940                           recharge       Found   \n",
       "5759                              watch       Found   \n",
       "3895                          Not Found   Not Found   \n",
       "6496                          Not Found   Not Found   \n",
       "5393  meeting nishi school instructions       Found   \n",
       "2475                          Not Found   Not Found   \n",
       "3161                          Not Found   Not Found   \n",
       "3012                          Not Found   Not Found   \n",
       "5893                        take tax pm       Found   \n",
       "\n",
       "                                           sent_clean  \n",
       "4105                   remind stock market downs told  \n",
       "3940                                reminder recharge  \n",
       "5759                                     remind watch  \n",
       "3895                                     tnx reminder  \n",
       "6496                          yes plz remind everyday  \n",
       "5393   set reminder meeting nishi school instructions  \n",
       "2475                                     end reminder  \n",
       "3161                              thank u fr reminder  \n",
       "3012  meeting reminder date november time meeting c b  \n",
       "5893              remind tomorrow morning take tax pm  "
      ]
     },
     "execution_count": 98,
     "metadata": {},
     "output_type": "execute_result"
    }
   ],
   "source": [
    "#Showing Data\n",
    "train_data.sample(10)"
   ]
  },
  {
   "cell_type": "code",
   "execution_count": 99,
   "metadata": {},
   "outputs": [],
   "source": [
    "#Splitting the data in test and train with ratio of 10% and 90%\n",
    "t_train , t_test , s_train , s_test = train_test_split(bow_train ,train_data['label_found'] , test_size = 0.10 , random_state=101)\n"
   ]
  },
  {
   "cell_type": "markdown",
   "metadata": {},
   "source": [
    "# Logistic regression Machine Learning\n",
    "\n",
    "\n",
    "Logistic regression is a supervised learning classification algorithm used to predict the probability of a target variable. The nature of target or dependent variable is dichotomous, which means there would be only two possible classes. ... Mathematically, a logistic regression model predicts P(Y=1) as a function of X.\n"
   ]
  },
  {
   "cell_type": "code",
   "execution_count": 100,
   "metadata": {},
   "outputs": [
    {
     "name": "stderr",
     "output_type": "stream",
     "text": [
      "/Users/user/opt/anaconda3/lib/python3.7/site-packages/sklearn/linear_model/logistic.py:432: FutureWarning: Default solver will be changed to 'lbfgs' in 0.22. Specify a solver to silence this warning.\n",
      "  FutureWarning)\n"
     ]
    }
   ],
   "source": [
    "#Applying the Logistic regrssion\n",
    "logreg = LogisticRegression()\n",
    "logreg = logreg.fit(t_train, s_train)"
   ]
  },
  {
   "cell_type": "code",
   "execution_count": 101,
   "metadata": {},
   "outputs": [
    {
     "name": "stdout",
     "output_type": "stream",
     "text": [
      "0.8105906313645621\n"
     ]
    }
   ],
   "source": [
    "#Print Accuracy\n",
    "print(accuracy_score(logreg.predict(t_test),s_test))"
   ]
  },
  {
   "cell_type": "markdown",
   "metadata": {},
   "source": [
    "# Random Forest Classifier\n",
    "\n",
    "Random forests or random decision forests are an ensemble learning method for classification, regression and other tasks that operate by constructing a multitude of decision trees at training time and outputting the class that is the mode of the classes or mean prediction of the individual trees.\n",
    "\n",
    "\n",
    "\n"
   ]
  },
  {
   "cell_type": "code",
   "execution_count": 102,
   "metadata": {},
   "outputs": [
    {
     "name": "stderr",
     "output_type": "stream",
     "text": [
      "/Users/user/opt/anaconda3/lib/python3.7/site-packages/sklearn/ensemble/forest.py:245: FutureWarning: The default value of n_estimators will change from 10 in version 0.20 to 100 in 0.22.\n",
      "  \"10 in version 0.20 to 100 in 0.22.\", FutureWarning)\n"
     ]
    },
    {
     "name": "stdout",
     "output_type": "stream",
     "text": [
      "0.7321792260692465\n"
     ]
    }
   ],
   "source": [
    "#Applying Random Forest Classifier\n",
    "rfc = RandomForestClassifier()\n",
    "rfc.fit(t_train , s_train)\n",
    "print(accuracy_score(rfc.predict(t_test),s_test))"
   ]
  },
  {
   "cell_type": "markdown",
   "metadata": {},
   "source": [
    "# Decision Tree Classifier\n",
    "\n",
    "\n",
    "A decision tree classifier is a tree in which internal nodes are labeled by features. ... The classifier categorizes an object xi by recursively testing for the weights that the features labeling the internal nodes have in vector xi, until a leaf node is reached. The label of this node is then assigned to xi.\n",
    "\n"
   ]
  },
  {
   "cell_type": "code",
   "execution_count": 103,
   "metadata": {},
   "outputs": [
    {
     "name": "stdout",
     "output_type": "stream",
     "text": [
      "0.7138492871690427\n"
     ]
    }
   ],
   "source": [
    "#Applying Decision Tree Classifier\n",
    "dtc = DecisionTreeClassifier()\n",
    "dtc.fit(t_train , s_train)\n",
    "print(accuracy_score(s_test, dtc.predict(t_test)))"
   ]
  },
  {
   "cell_type": "code",
   "execution_count": 104,
   "metadata": {},
   "outputs": [
    {
     "name": "stderr",
     "output_type": "stream",
     "text": [
      "/Users/user/opt/anaconda3/lib/python3.7/site-packages/sklearn/linear_model/logistic.py:432: FutureWarning: Default solver will be changed to 'lbfgs' in 0.22. Specify a solver to silence this warning.\n",
      "  FutureWarning)\n"
     ]
    }
   ],
   "source": [
    "#Applying Logistic Regression\n",
    "logreg = LogisticRegression()\n",
    "logreg = logreg.fit(bow_train ,train_data['label_found'])\n",
    "pred = logreg.predict(bow_test)"
   ]
  },
  {
   "cell_type": "code",
   "execution_count": 106,
   "metadata": {},
   "outputs": [
    {
     "data": {
      "text/html": [
       "<div>\n",
       "<style scoped>\n",
       "    .dataframe tbody tr th:only-of-type {\n",
       "        vertical-align: middle;\n",
       "    }\n",
       "\n",
       "    .dataframe tbody tr th {\n",
       "        vertical-align: top;\n",
       "    }\n",
       "\n",
       "    .dataframe thead th {\n",
       "        text-align: right;\n",
       "    }\n",
       "</style>\n",
       "<table border=\"1\" class=\"dataframe\">\n",
       "  <thead>\n",
       "    <tr style=\"text-align: right;\">\n",
       "      <th></th>\n",
       "      <th>label_found</th>\n",
       "    </tr>\n",
       "  </thead>\n",
       "  <tbody>\n",
       "    <tr>\n",
       "      <td>314</td>\n",
       "      <td>Not Found</td>\n",
       "    </tr>\n",
       "    <tr>\n",
       "      <td>41</td>\n",
       "      <td>Found</td>\n",
       "    </tr>\n",
       "    <tr>\n",
       "      <td>649</td>\n",
       "      <td>Found</td>\n",
       "    </tr>\n",
       "    <tr>\n",
       "      <td>196</td>\n",
       "      <td>Not Found</td>\n",
       "    </tr>\n",
       "    <tr>\n",
       "      <td>580</td>\n",
       "      <td>Not Found</td>\n",
       "    </tr>\n",
       "    <tr>\n",
       "      <td>939</td>\n",
       "      <td>Found</td>\n",
       "    </tr>\n",
       "    <tr>\n",
       "      <td>720</td>\n",
       "      <td>Not Found</td>\n",
       "    </tr>\n",
       "    <tr>\n",
       "      <td>497</td>\n",
       "      <td>Not Found</td>\n",
       "    </tr>\n",
       "    <tr>\n",
       "      <td>478</td>\n",
       "      <td>Not Found</td>\n",
       "    </tr>\n",
       "    <tr>\n",
       "      <td>906</td>\n",
       "      <td>Found</td>\n",
       "    </tr>\n",
       "  </tbody>\n",
       "</table>\n",
       "</div>"
      ],
      "text/plain": [
       "    label_found\n",
       "314   Not Found\n",
       "41        Found\n",
       "649       Found\n",
       "196   Not Found\n",
       "580   Not Found\n",
       "939       Found\n",
       "720   Not Found\n",
       "497   Not Found\n",
       "478   Not Found\n",
       "906       Found"
      ]
     },
     "execution_count": 106,
     "metadata": {},
     "output_type": "execute_result"
    }
   ],
   "source": [
    "#Output Data in TSV format\n",
    "output = pd.DataFrame( data={ \"label_found\":pred} )\n",
    "output.to_csv( \"result.tsv\", index=False, quoting=3 )\n",
    "output.sample(10)"
   ]
  },
  {
   "cell_type": "code",
   "execution_count": null,
   "metadata": {},
   "outputs": [],
   "source": []
  }
 ],
 "metadata": {
  "kernelspec": {
   "display_name": "Python 3",
   "language": "python",
   "name": "python3"
  },
  "language_info": {
   "codemirror_mode": {
    "name": "ipython",
    "version": 3
   },
   "file_extension": ".py",
   "mimetype": "text/x-python",
   "name": "python",
   "nbconvert_exporter": "python",
   "pygments_lexer": "ipython3",
   "version": "3.7.4"
  }
 },
 "nbformat": 4,
 "nbformat_minor": 2
}
